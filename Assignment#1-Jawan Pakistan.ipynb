{
 "cells": [
  {
   "cell_type": "markdown",
   "id": "a84e41fa",
   "metadata": {},
   "source": [
    "# Assignment # 1 "
   ]
  },
  {
   "cell_type": "code",
   "execution_count": 58,
   "id": "07d4fbfb",
   "metadata": {},
   "outputs": [
    {
     "name": "stdout",
     "output_type": "stream",
     "text": [
      "Twinkle, twinkle little star\n",
      "        How I wonder what you are!\n",
      "        \tUp above the world so high,\n",
      "        \tLike a diamond in the sky.\n",
      "Twinkle, twinkle little star,\n",
      "        How I wonder what you are!\n"
     ]
    }
   ],
   "source": [
    "# Question # 1:\n",
    "\n",
    "print(\"\"\"Twinkle, twinkle little star\n",
    "        How I wonder what you are!\n",
    "        \\tUp above the world so high,\n",
    "        \\tLike a diamond in the sky.\n",
    "Twinkle, twinkle little star,\n",
    "        How I wonder what you are!\"\"\")\n",
    "\n",
    "# print(\"\"\"\n",
    "# Twinkle, twinkle little star\n",
    "# \\tHow I wonder what you are!\n",
    "# \\t\\tUp above the world so high,\n",
    "# \\t\\tLike a diamond in the sky.\n",
    "# Twinkle, twinkle little star,\n",
    "# \\tHow I wonder what you are!\"\"\")"
   ]
  },
  {
   "cell_type": "code",
   "execution_count": 59,
   "id": "6052a587",
   "metadata": {},
   "outputs": [
    {
     "name": "stdout",
     "output_type": "stream",
     "text": [
      "3.7.6\n"
     ]
    }
   ],
   "source": [
    "# Question # 2:\n",
    "\n",
    "from platform import python_version\n",
    "\n",
    "print(python_version())"
   ]
  },
  {
   "cell_type": "code",
   "execution_count": 60,
   "id": "7eb8b500",
   "metadata": {},
   "outputs": [
    {
     "name": "stdout",
     "output_type": "stream",
     "text": [
      "2021-12-29 11:46:03.923759\n"
     ]
    }
   ],
   "source": [
    "# Question # 3:\n",
    "\n",
    "from datetime import datetime\n",
    "\n",
    "print(datetime.now())"
   ]
  },
  {
   "cell_type": "code",
   "execution_count": 63,
   "id": "a54ea244",
   "metadata": {},
   "outputs": [
    {
     "name": "stdout",
     "output_type": "stream",
     "text": [
      "please enter the radius of circle: 2\n",
      "Area of circle is: 12.56\n"
     ]
    }
   ],
   "source": [
    "# Question # 4:\n",
    "\n",
    "pi = 3.14\n",
    "\n",
    "try:\n",
    "    user = int(input(\"please enter the radius of circle: \"))\n",
    "    c_area = pi*user**2\n",
    "    print(f\"Area of circle is: {c_area}\")\n",
    "    \n",
    "except:\n",
    "    print(\"Plese Enter valid value\")\n",
    "    \n"
   ]
  },
  {
   "cell_type": "code",
   "execution_count": 64,
   "id": "43400416",
   "metadata": {},
   "outputs": [
    {
     "name": "stdout",
     "output_type": "stream",
     "text": [
      "First Name: Mohsin\n",
      "Last Name: Iqbal\n",
      "Your name in reverse order is Iqbal Mohsin.\n"
     ]
    }
   ],
   "source": [
    "# Question # 5:\n",
    "\n",
    "f_name = input(\"First Name: \")\n",
    "l_name = input(\"Last Name: \")\n",
    "\n",
    "print(F\"Your name in reverse order is {l_name} {f_name}.\")"
   ]
  },
  {
   "cell_type": "code",
   "execution_count": 65,
   "id": "7ef62a5f",
   "metadata": {},
   "outputs": [
    {
     "name": "stdout",
     "output_type": "stream",
     "text": [
      "First Value: 78\n",
      "Second Value: 12\n",
      "78 + 12 = 90\n"
     ]
    }
   ],
   "source": [
    "# Question # 6:\n",
    "\n",
    "f_value = int(input(\"First Value: \"))\n",
    "s_value = int(input(\"Second Value: \"))\n",
    "\n",
    "print(f\"{f_value} + {s_value} = {f_value+s_value}\")"
   ]
  }
 ],
 "metadata": {
  "kernelspec": {
   "display_name": "Python 3",
   "language": "python",
   "name": "python3"
  },
  "language_info": {
   "codemirror_mode": {
    "name": "ipython",
    "version": 3
   },
   "file_extension": ".py",
   "mimetype": "text/x-python",
   "name": "python",
   "nbconvert_exporter": "python",
   "pygments_lexer": "ipython3",
   "version": "3.7.6"
  }
 },
 "nbformat": 4,
 "nbformat_minor": 5
}
